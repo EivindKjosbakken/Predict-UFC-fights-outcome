{
 "cells": [
  {
   "cell_type": "markdown",
   "metadata": {},
   "source": [
    "# Given info about fighter 1 and fighter 2 -> predict the winner"
   ]
  },
  {
   "cell_type": "code",
   "execution_count": 1,
   "metadata": {},
   "outputs": [
    {
     "name": "stderr",
     "output_type": "stream",
     "text": [
      "c:\\Users\\eivin\\Documents\\Programming\\UFCPrediction\\venv\\lib\\site-packages\\tqdm\\auto.py:21: TqdmWarning: IProgress not found. Please update jupyter and ipywidgets. See https://ipywidgets.readthedocs.io/en/stable/user_install.html\n",
      "  from .autonotebook import tqdm as notebook_tqdm\n"
     ]
    }
   ],
   "source": [
    "import pandas as pd\n",
    "import numpy as np\n",
    "from sklearn.model_selection import train_test_split\n",
    "from sklearn.model_selection import StratifiedKFold, train_test_split\n",
    "import torch\n",
    "import os\n",
    "from tqdm.auto import tqdm as tqdmauto"
   ]
  },
  {
   "cell_type": "code",
   "execution_count": 71,
   "metadata": {},
   "outputs": [],
   "source": [
    "df = pd.read_csv('data/cleaned_data.csv')"
   ]
  },
  {
   "cell_type": "code",
   "execution_count": 3,
   "metadata": {},
   "outputs": [],
   "source": [
    "from sklearn.model_selection import train_test_split\n",
    "train_df, test_df = train_test_split(df, test_size=0.2, random_state=42)"
   ]
  },
  {
   "cell_type": "code",
   "execution_count": 4,
   "metadata": {},
   "outputs": [],
   "source": [
    "train_evs = train_df[[\"R_ev\", \"B_ev\"]].to_numpy()\n",
    "X_train = train_df.drop([\"R_fighter\", \"B_fighter\", \"Winner\", \"R_ev\", \"B_ev\"], axis=1).to_numpy()\n",
    "y_train = train_df[[\"Winner\"]].to_numpy()\n",
    "X_train = torch.tensor(X_train, dtype=torch.float32)\n",
    "y_train = torch.tensor(y_train, dtype=torch.float32).reshape(-1, 1)\n",
    "\n",
    "test_evs = test_df[[\"R_ev\", \"B_ev\"]].to_numpy()\n",
    "X_test = test_df.drop([\"R_fighter\", \"B_fighter\", \"Winner\", \"R_ev\", \"B_ev\"], axis=1).to_numpy()\n",
    "y_test = test_df[[\"Winner\"]].to_numpy()\n",
    "X_test = torch.tensor(X_test, dtype=torch.float32)\n",
    "y_test = torch.tensor(y_test, dtype=torch.float32).reshape(-1, 1)\n",
    "\n",
    "train_evs = torch.tensor(train_evs, dtype=torch.float32)\n",
    "test_evs = torch.tensor(test_evs, dtype=torch.float32)"
   ]
  },
  {
   "cell_type": "markdown",
   "metadata": {},
   "source": [
    "Much code from https://machinelearningmastery.com/building-a-binary-classification-model-in-pytorch/"
   ]
  },
  {
   "cell_type": "code",
   "execution_count": 5,
   "metadata": {},
   "outputs": [],
   "source": [
    "# model architectures\n",
    "import torch.nn as nn\n",
    "class ShallowBinaryClassifier(nn.Module):\n",
    "    def __init__(self, input_size):\n",
    "        super().__init__()\n",
    "        self.hidden = nn.Linear(input_size, 180)\n",
    "        self.relu = nn.ReLU()\n",
    "        self.output = nn.Linear(180, 1)\n",
    "        self.sigmoid = nn.Sigmoid()\n",
    " \n",
    "    def forward(self, x):\n",
    "        x = self.relu(self.hidden(x))\n",
    "        x = self.sigmoid(self.output(x))\n",
    "        return x\n",
    "\n",
    "class DeepBinaryClassifier(nn.Module):\n",
    "    def __init__(self, input_size):\n",
    "        super().__init__()\n",
    "        self.layer1 = nn.Linear(input_size, 60)\n",
    "        self.act1 = nn.ReLU()\n",
    "        self.layer2 = nn.Linear(60, 60)\n",
    "        self.act2 = nn.ReLU()\n",
    "        self.layer3 = nn.Linear(60, 60)\n",
    "        self.act3 = nn.ReLU()\n",
    "        self.output = nn.Linear(60, 1)\n",
    "        self.sigmoid = nn.Sigmoid()\n",
    " \n",
    "    def forward(self, x):\n",
    "        x = self.act1(self.layer1(x))\n",
    "        x = self.act2(self.layer2(x))\n",
    "        x = self.act3(self.layer3(x))\n",
    "        x = self.sigmoid(self.output(x))\n",
    "        return x"
   ]
  },
  {
   "cell_type": "markdown",
   "metadata": {},
   "source": [
    "# Train for winner"
   ]
  },
  {
   "cell_type": "code",
   "execution_count": 19,
   "metadata": {},
   "outputs": [],
   "source": [
    "# train \n",
    "import copy\n",
    "import numpy as np\n",
    "import torch\n",
    "import torch.nn as nn\n",
    "import torch.optim as optim\n",
    "import tqdm\n",
    " \n",
    "def model_train_winner(model, X_train, y_train, X_val, y_val, n_epochs = 250, batch_size=10, lr=0.0001  ):\n",
    "    # loss function and optimizer\n",
    "    loss_fn = nn.BCELoss()  # binary cross entropy\n",
    "    optimizer = optim.Adam(model.parameters(), lr=lr)\n",
    "    batch_start = torch.arange(0, len(X_train), batch_size)\n",
    " \n",
    "    # Hold the best model\n",
    "    best_acc = - np.inf   # init to negative infinity\n",
    "    best_weights = None\n",
    " \n",
    "    for epoch in tqdmauto(range(n_epochs)):\n",
    "        model.train()\n",
    "        with tqdm.tqdm(batch_start, unit=\"batch\", mininterval=0, disable=True) as bar:\n",
    "            bar.set_description(f\"Epoch {epoch}\")\n",
    "            for start in bar:\n",
    "                # take a batch\n",
    "                X_batch = X_train[start:start+batch_size]\n",
    "                y_batch = y_train[start:start+batch_size]\n",
    "                # forward pass\n",
    "                y_pred = model(X_batch)\n",
    "                loss = loss_fn(y_pred, y_batch)\n",
    "                # backward pass\n",
    "                optimizer.zero_grad()\n",
    "                loss.backward()\n",
    "                # update weights\n",
    "                optimizer.step()\n",
    "                # print progress\n",
    "                acc = (y_pred.round() == y_batch).float().mean()\n",
    "                bar.set_postfix(\n",
    "                    loss=float(loss),\n",
    "                    acc=float(acc)\n",
    "                )\n",
    "        # evaluate accuracy at end of each epoch\n",
    "        if (epoch % 10 == 0):\n",
    "            model.eval()\n",
    "            y_pred = model(X_val)\n",
    "            acc = (y_pred.round() == y_val).float().mean()\n",
    "            acc = float(acc)\n",
    "            print(\"Acc:\", acc)\n",
    "            if acc > best_acc:\n",
    "                best_acc = acc\n",
    "                best_weights = copy.deepcopy(model.state_dict())\n",
    "    # restore model and return best accuracy\n",
    "    model.load_state_dict(best_weights)\n",
    "    return best_acc"
   ]
  },
  {
   "cell_type": "code",
   "execution_count": 20,
   "metadata": {},
   "outputs": [],
   "source": [
    "def train(train_func, model, X_train, y_train, X_test, y_test, n_epochs = 250, batch_size=10, lr=0.0001):\n",
    "\t\n",
    "\tacc = train_func(model, X_train, y_train, X_test, y_test, epochs, batch_size, lr)\n",
    "\tprint(f\"Performance: {acc*100:.2f}%\")\n",
    "\n"
   ]
  },
  {
   "cell_type": "code",
   "execution_count": 23,
   "metadata": {},
   "outputs": [
    {
     "name": "stderr",
     "output_type": "stream",
     "text": [
      "  2%|▏         | 1/50 [00:00<00:24,  1.99it/s]"
     ]
    },
    {
     "name": "stdout",
     "output_type": "stream",
     "text": [
      "Acc: 0.584269642829895\n"
     ]
    },
    {
     "name": "stderr",
     "output_type": "stream",
     "text": [
      " 22%|██▏       | 11/50 [00:04<00:15,  2.53it/s]"
     ]
    },
    {
     "name": "stdout",
     "output_type": "stream",
     "text": [
      "Acc: 0.6026557683944702\n"
     ]
    },
    {
     "name": "stderr",
     "output_type": "stream",
     "text": [
      " 42%|████▏     | 21/50 [00:08<00:11,  2.59it/s]"
     ]
    },
    {
     "name": "stdout",
     "output_type": "stream",
     "text": [
      "Acc: 0.5955055952072144\n"
     ]
    },
    {
     "name": "stderr",
     "output_type": "stream",
     "text": [
      " 62%|██████▏   | 31/50 [00:12<00:07,  2.50it/s]"
     ]
    },
    {
     "name": "stdout",
     "output_type": "stream",
     "text": [
      "Acc: 0.6077630519866943\n"
     ]
    },
    {
     "name": "stderr",
     "output_type": "stream",
     "text": [
      " 82%|████████▏ | 41/50 [00:16<00:03,  2.49it/s]"
     ]
    },
    {
     "name": "stdout",
     "output_type": "stream",
     "text": [
      "Acc: 0.6077630519866943\n"
     ]
    },
    {
     "name": "stderr",
     "output_type": "stream",
     "text": [
      "100%|██████████| 50/50 [00:19<00:00,  2.51it/s]"
     ]
    },
    {
     "name": "stdout",
     "output_type": "stream",
     "text": [
      "Performance: 60.78%\n"
     ]
    },
    {
     "name": "stderr",
     "output_type": "stream",
     "text": [
      "\n"
     ]
    }
   ],
   "source": [
    "train_func = model_train_winner\n",
    "model = ShallowBinaryClassifier(X_train.shape[1])\n",
    "# model = DeepBinaryClassifier(X_train.shape[1])\n",
    "epochs = 50\n",
    "batch_size = 10\n",
    "lr = 0.0001\n",
    "\n",
    "train(train_func, model, X_train, y_train, X_test, y_test, epochs, batch_size, lr)"
   ]
  },
  {
   "cell_type": "code",
   "execution_count": null,
   "metadata": {},
   "outputs": [],
   "source": [
    "#TODO test sometimes during the run, every 50 epochs perhaps?"
   ]
  },
  {
   "cell_type": "markdown",
   "metadata": {},
   "source": [
    "We do not only care about the winner, but also the odds, since some fights will be easier to predict, due to the odds being very high for one of the fighters. Therefore, calculate how much you earn when compared to the odds"
   ]
  },
  {
   "cell_type": "code",
   "execution_count": 95,
   "metadata": {},
   "outputs": [],
   "source": [
    "# make a validation func to see how much you would earn based on odds\n",
    "\n",
    "def test_odds_performance(X_test, y_test, test_evs, description=\"Training sequence i \\n\", result_txt_file_path=\"results.txt\"):\n",
    "\t# load the best model\n",
    "\tmodel.eval()\n",
    "\twith torch.no_grad():\n",
    "\t\ty_pred = model(X_test).round()\n",
    "\n",
    "\t\t# set y pred to random numbers\n",
    "\t\t# y_pred = torch.randint(0, 2, (len(y_test), 1)).float() #TODO remove after\n",
    "\t\t# print(y_pred)\n",
    "\t\tcorrect = (y_pred == y_test).float()\n",
    "\n",
    "\t\tpredicted_earnings, potential_earnings = 0, 0\n",
    "\n",
    "\t\tfor i in range(len(correct)):\n",
    "\t\t\tpotential_earnings += test_evs[i][y_test[i].long()].item()\n",
    "\t\t\tis_correct = correct[i].item()\n",
    "\t\t\tif (is_correct == 1):\n",
    "\t\t\t\tpredicted_earnings += test_evs[i][y_test[i].long()].item() #what you win if you bet 100\n",
    "\t\t\telse:\n",
    "\t\t\t\tpredicted_earnings -= 100 # bet 100 each time\n",
    "\t\tprint(description)\n",
    "\t\tprint(f\"For {len(y_test)} test samples: \")\n",
    "\t\tprint(\"Accuracy: \", round(torch.mean(correct).item(),4))\n",
    "\t\tprint(\"When betting 100: \")\n",
    "\t\tprint(\"Predicted earnings: \", round(predicted_earnings,2))\n",
    "\t\tprint(\"Potential earnings: \", round(potential_earnings, 2))\n"
   ]
  },
  {
   "cell_type": "code",
   "execution_count": 94,
   "metadata": {},
   "outputs": [
    {
     "name": "stdout",
     "output_type": "stream",
     "text": [
      "Model with params: epochs: 50, bs: 10, lr: 0.0001\n",
      "For 979 test samples: \n",
      "Accuracy:  0.61\n",
      "When betting 100: \n",
      "Predicted earnings:  85254.83\n",
      "Potential earnings:  169201.78\n"
     ]
    }
   ],
   "source": [
    "description = f\"Model with params: epochs: {epochs}, bs: {batch_size}, lr: {lr}\"\n",
    "test_odds_performance(X_test, y_test, test_evs, description=description)"
   ]
  },
  {
   "cell_type": "code",
   "execution_count": 96,
   "metadata": {},
   "outputs": [
    {
     "name": "stdout",
     "output_type": "stream",
     "text": [
      "Train and test indices do not overlap:  True\n"
     ]
    }
   ],
   "source": [
    "#sanity check no overlap between train and test\n",
    "print(\"Train and test indices do not overlap: \", len(set(train_df.index).intersection(set(test_df.index))) == 0)\n"
   ]
  },
  {
   "cell_type": "markdown",
   "metadata": {},
   "source": [
    "If the predicted earnings are positive, you are making money"
   ]
  }
 ],
 "metadata": {
  "kernelspec": {
   "display_name": "venv",
   "language": "python",
   "name": "python3"
  },
  "language_info": {
   "codemirror_mode": {
    "name": "ipython",
    "version": 3
   },
   "file_extension": ".py",
   "mimetype": "text/x-python",
   "name": "python",
   "nbconvert_exporter": "python",
   "pygments_lexer": "ipython3",
   "version": "3.10.9"
  }
 },
 "nbformat": 4,
 "nbformat_minor": 2
}
